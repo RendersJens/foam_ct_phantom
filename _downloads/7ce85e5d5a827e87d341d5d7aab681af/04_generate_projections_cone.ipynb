{
  "cells": [
    {
      "cell_type": "code",
      "execution_count": null,
      "metadata": {
        "collapsed": false
      },
      "outputs": [],
      "source": [
        "%matplotlib inline"
      ]
    },
    {
      "cell_type": "markdown",
      "metadata": {},
      "source": [
        "\nExample 04: Generate cone-beam projections\n==========================================\n"
      ]
    },
    {
      "cell_type": "code",
      "execution_count": null,
      "metadata": {
        "collapsed": false
      },
      "outputs": [],
      "source": [
        "import foam_ct_phantom\nimport numpy as np\nimport h5py\nimport pylab as pl\npl.gray()\n\nphantom = foam_ct_phantom.FoamPhantom('test_phantom.h5')\n\ngeom = foam_ct_phantom.ConeGeometry(256,256,np.linspace(0,2*np.pi,256),3/256,sod=2,odd=0,usecuda=False)\n\nphantom.generate_projections('test_projs_cone.h5',geom)\n\nprojs = foam_ct_phantom.load_projections('test_projs_cone.h5')\n\npl.imshow(projs[0])\npl.show()"
      ]
    }
  ],
  "metadata": {
    "kernelspec": {
      "display_name": "Python 3",
      "language": "python",
      "name": "python3"
    },
    "language_info": {
      "codemirror_mode": {
        "name": "ipython",
        "version": 3
      },
      "file_extension": ".py",
      "mimetype": "text/x-python",
      "name": "python",
      "nbconvert_exporter": "python",
      "pygments_lexer": "ipython3",
      "version": "3.7.3"
    }
  },
  "nbformat": 4,
  "nbformat_minor": 0
}