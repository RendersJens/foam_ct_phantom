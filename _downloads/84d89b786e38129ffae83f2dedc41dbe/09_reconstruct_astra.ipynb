{
  "cells": [
    {
      "cell_type": "code",
      "execution_count": null,
      "metadata": {
        "collapsed": false
      },
      "outputs": [],
      "source": [
        "%matplotlib inline"
      ]
    },
    {
      "cell_type": "markdown",
      "metadata": {},
      "source": [
        "\nExample 09: Reconstruct data using ASTRA\n========================================\n"
      ]
    },
    {
      "cell_type": "code",
      "execution_count": null,
      "metadata": {
        "collapsed": false
      },
      "outputs": [],
      "source": [
        "import foam_ct_phantom\nimport astra\nimport numpy as np\nimport h5py\nimport pylab as pl\npl.gray()\n\n# Run 03_generate_projections_parallel.py and 04_generate_projections_cone first\n\nprojs = foam_ct_phantom.load_projections('test_projs_par.h5')\n\nvol_geom = foam_ct_phantom.VolumeGeometry(256, 256, 256, 3/256)\n\nproj_geom = foam_ct_phantom.ParallelGeometry.from_file('test_projs_par.h5')\n\npg = proj_geom.to_astra(single_slice=True)\nvg = vol_geom.to_astra(single_slice=True)\n\npid = astra.create_projector('cuda', pg, vg)\nw = astra.OpTomo(pid)\n\nmid_slice = w.reconstruct('FBP_CUDA', projs[:,projs.shape[1]//2])\n\npl.imshow(mid_slice)\npl.show()\n\nastra.projector.delete(pid)\n\nprojs = foam_ct_phantom.load_projections('test_projs_cone.h5')\n\nproj_geom = foam_ct_phantom.ConeGeometry.from_file('test_projs_cone.h5', usecuda=False)\n\npg3d = proj_geom.to_astra()\nvg3d = vol_geom.to_astra()\n\npid = astra.create_projector('cuda3d', pg3d, vg3d)\nw = astra.OpTomo(pid)\n\ncone_rec = w.reconstruct('FDK_CUDA', projs.swapaxes(0,1))\n\npl.imshow(cone_rec[cone_rec.shape[0]//2],vmin=0,vmax=3/256)\npl.show()"
      ]
    }
  ],
  "metadata": {
    "kernelspec": {
      "display_name": "Python 3",
      "language": "python",
      "name": "python3"
    },
    "language_info": {
      "codemirror_mode": {
        "name": "ipython",
        "version": 3
      },
      "file_extension": ".py",
      "mimetype": "text/x-python",
      "name": "python",
      "nbconvert_exporter": "python",
      "pygments_lexer": "ipython3",
      "version": "3.7.3"
    }
  },
  "nbformat": 4,
  "nbformat_minor": 0
}