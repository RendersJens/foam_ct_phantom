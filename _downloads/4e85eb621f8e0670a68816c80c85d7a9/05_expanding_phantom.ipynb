{
  "cells": [
    {
      "cell_type": "code",
      "execution_count": null,
      "metadata": {
        "collapsed": false
      },
      "outputs": [],
      "source": [
        "%matplotlib inline"
      ]
    },
    {
      "cell_type": "markdown",
      "metadata": {},
      "source": [
        "\nExample 05: Generate a 4D expanding phantom\n===========================================\n"
      ]
    },
    {
      "cell_type": "code",
      "execution_count": null,
      "metadata": {
        "collapsed": false
      },
      "outputs": [],
      "source": [
        "import foam_ct_phantom\nimport h5py\nimport numpy as np\nimport pylab as pl\npl.gray()\n\nrandom_seed = 9876\n\nfoam_ct_phantom.ExpandingFoamPhantom.generate('test_expand.h5','test_phantom.h5',random_seed)\n\nexpanding_phantom = foam_ct_phantom.ExpandingFoamPhantom('test_expand.h5')\n\nvol_geom = foam_ct_phantom.VolumeGeometry(256,256,1,3/256)\n\nexpanding_phantom.generate_volume('test_expand_vol_start.h5', vol_geom, time=0)\nexpanding_phantom.generate_volume('test_expand_vol_end.h5', vol_geom, time=1)\n\nvol0 = foam_ct_phantom.load_volume('test_expand_vol_start.h5')\nvol1 = foam_ct_phantom.load_volume('test_expand_vol_end.h5')\npl.imshow(vol0[0])\npl.figure()\npl.imshow(vol1[0])\npl.show()\n\nproj_geom = foam_ct_phantom.ParallelGeometry(256,128,np.linspace(0,4*np.pi,128,False),3/256)\nexpanding_phantom.generate_projections('test_expand_projs.h5', proj_geom)\n\nprojs = foam_ct_phantom.load_projections('test_expand_projs.h5')\n\npl.imshow(projs[0])\npl.figure()\npl.imshow(projs[-1])\npl.show()"
      ]
    }
  ],
  "metadata": {
    "kernelspec": {
      "display_name": "Python 3",
      "language": "python",
      "name": "python3"
    },
    "language_info": {
      "codemirror_mode": {
        "name": "ipython",
        "version": 3
      },
      "file_extension": ".py",
      "mimetype": "text/x-python",
      "name": "python",
      "nbconvert_exporter": "python",
      "pygments_lexer": "ipython3",
      "version": "3.7.3"
    }
  },
  "nbformat": 4,
  "nbformat_minor": 0
}