{
  "cells": [
    {
      "cell_type": "code",
      "execution_count": null,
      "metadata": {
        "collapsed": false
      },
      "outputs": [],
      "source": [
        "%matplotlib inline"
      ]
    },
    {
      "cell_type": "markdown",
      "metadata": {},
      "source": [
        "\nExample 08: Apply Poission noise to projection data\n===================================================\n"
      ]
    },
    {
      "cell_type": "code",
      "execution_count": null,
      "metadata": {
        "collapsed": false
      },
      "outputs": [],
      "source": [
        "import foam_ct_phantom\nimport numpy as np\nimport h5py\nimport pylab as pl\npl.gray()\n\n# Run 03_generate_projections_parallel.py first\n\nfac = foam_ct_phantom.estimate_absorption_factor('test_projs_par.h5',0.5)\n\nfoam_ct_phantom.apply_poisson_noise('test_projs_par.h5','test_projs_noisy.h5',1234,100,fac)\n\nprojs = foam_ct_phantom.load_projections('test_projs_noisy.h5')\n\npl.imshow(projs[0])\npl.show()"
      ]
    }
  ],
  "metadata": {
    "kernelspec": {
      "display_name": "Python 3",
      "language": "python",
      "name": "python3"
    },
    "language_info": {
      "codemirror_mode": {
        "name": "ipython",
        "version": 3
      },
      "file_extension": ".py",
      "mimetype": "text/x-python",
      "name": "python",
      "nbconvert_exporter": "python",
      "pygments_lexer": "ipython3",
      "version": "3.7.3"
    }
  },
  "nbformat": 4,
  "nbformat_minor": 0
}