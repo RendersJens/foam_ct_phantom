{
  "cells": [
    {
      "cell_type": "code",
      "execution_count": null,
      "metadata": {
        "collapsed": false
      },
      "outputs": [],
      "source": [
        "%matplotlib inline"
      ]
    },
    {
      "cell_type": "markdown",
      "metadata": {},
      "source": [
        "\nExample 02: Plot a phantom\n==========================\n"
      ]
    },
    {
      "cell_type": "code",
      "execution_count": null,
      "metadata": {
        "collapsed": false
      },
      "outputs": [],
      "source": [
        "import foam_ct_phantom\nimport h5py\nimport pylab as pl\npl.gray()\n\nphantom = foam_ct_phantom.FoamPhantom('test_phantom.h5')\n\ngeom = foam_ct_phantom.VolumeGeometry(256,256,1,3/256)\n\nphantom.generate_volume('test_midslice.h5', geom)\n\nvol = foam_ct_phantom.load_volume('test_midslice.h5')\n\npl.imshow(vol[0])\npl.show()"
      ]
    }
  ],
  "metadata": {
    "kernelspec": {
      "display_name": "Python 3",
      "language": "python",
      "name": "python3"
    },
    "language_info": {
      "codemirror_mode": {
        "name": "ipython",
        "version": 3
      },
      "file_extension": ".py",
      "mimetype": "text/x-python",
      "name": "python",
      "nbconvert_exporter": "python",
      "pygments_lexer": "ipython3",
      "version": "3.7.3"
    }
  },
  "nbformat": 4,
  "nbformat_minor": 0
}